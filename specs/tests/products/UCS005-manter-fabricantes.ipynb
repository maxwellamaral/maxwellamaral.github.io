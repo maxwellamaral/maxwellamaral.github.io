{
 "cells": [
  {
   "cell_type": "markdown",
   "metadata": {},
   "source": [
    "# UC005 - Manter fabricantes\n",
    "\n",
    "**Objetivo**: Permitir que o usuário do sistema possa cadastrar, editar e excluir fabricantes.\n",
    "\n",
    "**Requisitos**: \n",
    "- RF007\n",
    "\n",
    "**Atores**:\n",
    "- Usuário do sistema"
   ]
  },
  {
   "cell_type": "markdown",
   "metadata": {},
   "source": [
    "# [FP] FLUXO PRINCIPAL\n",
    "\n",
    "O ator acessa a página de cadastro de fabricantes. Ele verifica que o título da página é \"Cadastro de fabricantes\". Ele observa que existe os campos:\n",
    "\n",
    "- Nome\n",
    "- Telefone do suporte\n",
    "- E-mail do suporte\n",
    "- Site principal\n",
    "- Site suporte\n",
    "\n",
    "O ator preenche os campos.\n",
    "\n",
    "O ator clica no botão \"Cadastrar\".\n",
    "\n",
    "O sistema cadastra o fabricante e exibe uma mensagem de sucesso."
   ]
  },
  {
   "cell_type": "markdown",
   "metadata": {},
   "source": [
    "# [A1] - BUSCAR FABRICANTE\n",
    "\n",
    "O ator necessita realizar uma busca por fabricantes na lista. \n",
    "\n",
    "Ele acessa a página \"Listar fabricantes\"\n",
    "\n",
    "O sistema exibe a página de listagem de fabricantes.\n",
    "\n",
    "Seleciona o campo específico para busca e digita o nome do fabricante.\n",
    "\n",
    "O ator selecionar 'Pesquisar'.\n",
    "\n",
    "O sistema exibe todos os fabricantes que correspondem aos termos que foram digitados."
   ]
  },
  {
   "cell_type": "markdown",
   "metadata": {},
   "source": [
    "# [A2] EDITAR FABRICANTE\n",
    "\n",
    "O ator executa [A1].\n",
    "\n",
    "O ator seleciona o fabricante na lista e clica no botão para editar o fabricante.\n",
    "\n",
    "Sistema exibe a página de edição de fabricantes e que os campos estão preenchidos com os dados da fabricante.\n",
    "\n",
    "O ator altera o site do suporte da fabricante e clica no botão para salvar os dados relacionados ao produto.\n",
    "\n",
    "Sistema salva os dados.\n",
    "\n",
    "O ator seleciona 'Listar fabricantes' no menu.\n",
    "\n",
    "O sistema exibe uma a lista de fabricantes cadastrados.\n",
    "\n",
    "O ator verifica que a fabricante cadastrada está na lista."
   ]
  },
  {
   "cell_type": "markdown",
   "metadata": {},
   "source": [
    "# [A3] EXCLUIR FABRICANTE\n",
    "\n",
    "O ator decide excluir o fabricante e executa [A1]. \n",
    "\n",
    "Ele visualiza o fabricante e seleciona a opção 'Excluir'.\n",
    "\n",
    "O sistema pergunta se o usuário realmente deseja excluir o fabricante.\n",
    "\n",
    "O ator confirma a exclusão.\n",
    "\n",
    "O sistema exclui o fabricante.\n",
    "\n",
    "O ator seleciona 'Listar fabricantes' no menu.\n",
    "\n",
    "O sistema exibe uma a lista de fabricantes cadastrados.\n",
    "\n",
    "O ator verifica que o fabricante cadastrado não está na lista."
   ]
  }
 ],
 "metadata": {
  "language_info": {
   "name": "python"
  },
  "orig_nbformat": 4
 },
 "nbformat": 4,
 "nbformat_minor": 2
}
