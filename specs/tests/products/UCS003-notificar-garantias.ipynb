{
 "cells": [
  {
   "cell_type": "markdown",
   "metadata": {},
   "source": [
    "# UC003 - Notificar garantias prestes a vencer\n",
    "\n",
    "**Objetivo**: Permitir que o cliente possa ser notificado sobre garantias prestes a vencer.\n",
    "\n",
    "**Requisitos**: \n",
    "- RF006\n",
    "\n",
    "**Atores**:\n",
    "- Cliente"
   ]
  },
  {
   "cell_type": "markdown",
   "metadata": {},
   "source": [
    "# [FP] Fluxo Principal\n",
    "\n",
    "O ator acessa a dashboard do sistema.\n",
    "\n",
    "O sistema exibe a dashboard  e verifica na área de notificações que existem uma lista de mensagens relacionadas a garantias prestes a vencer. [A1]\n",
    "\n",
    "O ator seleciona a notificação de garantia prestes a vencer.\n",
    "\n",
    "O sistema exibe a tela de notificação de garantia prestes a vencer com informações sobre o produto, a marca, a data de compra, o tipo e a data de vencimento da garantia.\n",
    "\n",
    "Satisfeito, o ator fecha a página."
   ]
  },
  {
   "cell_type": "markdown",
   "metadata": {},
   "source": [
    "# [A1] Não existem mensagens de garantia a serem notificadas\n",
    "\n",
    "O sistema exibe a dashboard e verifica na área de notificações que não existem  mensagens relacionadas a garantias prestes a vencer.\n",
    "\n",
    "Satisfeito, o ator fecha a página."
   ]
  }
 ],
 "metadata": {
  "language_info": {
   "name": "python"
  },
  "orig_nbformat": 4
 },
 "nbformat": 4,
 "nbformat_minor": 2
}
