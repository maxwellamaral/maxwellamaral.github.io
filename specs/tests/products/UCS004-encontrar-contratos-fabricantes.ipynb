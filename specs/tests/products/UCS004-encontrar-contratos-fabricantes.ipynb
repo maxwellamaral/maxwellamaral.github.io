{
 "cells": [
  {
   "cell_type": "markdown",
   "metadata": {},
   "source": [
    "# UC004 - Encontrar contatos dos fabricantes\n",
    "\n",
    "**Objetivo**: Encontrar os contatos dos fabricantes de um produto.\n",
    "\n",
    "**Requisitos**: \n",
    "- RF007\n",
    "\n",
    "**Atores**:\n",
    "- Cliente"
   ]
  },
  {
   "cell_type": "markdown",
   "metadata": {},
   "source": [
    "# [FP] Fluxo Principal\n",
    "\n",
    "O ator acessa a dashboard do sistema.\n",
    "\n",
    "O ator necessita realizar uma busca por produtos na lista. \n",
    "\n",
    "Ele acessa a página \"Listar produto\"\n",
    "\n",
    "O sistema exibe a página de listagem de produtos.\n",
    "\n",
    "Seleciona o campo específico para busca e digita o nome do produto.\n",
    "\n",
    "O ator selecionar 'Pesquisar'.\n",
    "\n",
    "O sistema exibe todos os produtos que correspondem aos termos que foram digitados.\n",
    "\n",
    "O ator seleciona o produto que deseja visualizar.\n",
    "\n",
    "O sistema exibe a página de detalhes do produto.\n",
    "\n",
    "O ator verifica que o nome da marca do produto representa a fabricante. Ele seleciona o nome da marca. \n",
    "\n",
    "O sistema busca a fabricante [UCS005](UCS005-manter-fabricantes.ipynb) do produto e exibe a página de detalhes da fabricante e apresenta detalhes da fabricante, contendo informações sobre telefones, e-mails e site.\n",
    "\n",
    "Satisfeito, o ator fecha a página."
   ]
  }
 ],
 "metadata": {
  "language_info": {
   "name": "python"
  },
  "orig_nbformat": 4
 },
 "nbformat": 4,
 "nbformat_minor": 2
}
