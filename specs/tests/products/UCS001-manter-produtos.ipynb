{
 "cells": [
  {
   "cell_type": "markdown",
   "metadata": {},
   "source": [
    "# UC001 - Manter produtos\n",
    "\n",
    "**Objetivo**: Permitir que o cliente possa cadastrar, alterar, excluir e consultar produtos.\n",
    "\n",
    "**Requisitos**: \n",
    "- RF001\n",
    "- RF008\n",
    "\n",
    "**Atores**:\n",
    "- Cliente"
   ]
  },
  {
   "cell_type": "code",
   "execution_count": null,
   "metadata": {},
   "outputs": [],
   "source": [
    "from selenium import webdriver\n",
    "from selenium.webdriver.common.keys import Keys\n",
    "from selenium.webdriver.common.by import By\n",
    "\n",
    "driver = webdriver.Firefox()"
   ]
  },
  {
   "cell_type": "markdown",
   "metadata": {},
   "source": [
    "## [FP] FLUXO PRINCIPAL\n",
    "\n",
    "O ator acessa a página de cadastro de produtos. Ele verifica que o título da página é \"Cadastro de produtos\". Ele observa que existe os campos:\n",
    "- Nome\n",
    "- Data de compra\n",
    "- Segmento\n",
    "- Marca\n",
    "- Modelo\n",
    "- Local de compra\n",
    "- Valor pago\n",
    "- Modo de compra (online ou loja física)\n",
    "- Listagem de garantias\n",
    "- Data de vencimento da garantia\n",
    "- Tipo de garantia\n",
    "- Valor da garantia\n",
    "- Opções\n",
    "    - Botão \"Salvar\"\n",
    "    - Botão \"Cancelar\""
   ]
  },
  {
   "cell_type": "code",
   "execution_count": null,
   "metadata": {},
   "outputs": [],
   "source": [
    "url = 'http://localhost:8000'\n",
    "driver.get(url)\n",
    "\n",
    "search_box = driver.find_element(By.ID, 'search')\n",
    "search_box.send_keys('selenium')\n",
    "search_box.send_keys(Keys.RETURN)"
   ]
  },
  {
   "cell_type": "markdown",
   "metadata": {},
   "source": [
    "O ator preenche os campos com os dados do produto. Verifica também que existe a data de vencimento, tipo e o valor da garantia em uma lista em branco, onde será possível cadastrar mais de um tipo de garantia. Desta forma ele preenche o valor, o tipo 'original' e a data de vencimento. [A4]"
   ]
  },
  {
   "cell_type": "markdown",
   "metadata": {},
   "source": [
    "Ao concluir o cadastro, ele seleciona a opção \"Salvar\". [A2][A3]"
   ]
  },
  {
   "cell_type": "markdown",
   "metadata": {},
   "source": [
    "O sistema verifica que os dados estão corretos [RN1]"
   ]
  },
  {
   "cell_type": "markdown",
   "metadata": {},
   "source": [
    "O sistema exibe a página de cadastro de produtos novamente e exibe uma mensagem de sucesso."
   ]
  },
  {
   "cell_type": "markdown",
   "metadata": {},
   "source": [
    "O ator seleciona 'Consultar' no menu."
   ]
  },
  {
   "cell_type": "markdown",
   "metadata": {},
   "source": [
    "O sistema exibe a página de listagem de produtos."
   ]
  },
  {
   "cell_type": "markdown",
   "metadata": {},
   "source": [
    "O ator verifica que o produto cadastrado está na lista."
   ]
  },
  {
   "cell_type": "markdown",
   "metadata": {},
   "source": [
    "# [A1] - BUSCAR PRODUTO\n",
    "\n",
    "O ator necessita realizar uma busca por produtos na lista. \n",
    "\n",
    "Ele acessa a página \"Listar produto\"\n",
    "\n",
    "O sistema exibe a página de listagem de produtos. A página exibe opções de busca relacionados ao nome do produto, marca, modelo, segmento e local de compra.\n",
    "\n",
    "Seleciona o campo específico para busca e digita o nome do produto.\n",
    "\n",
    "O ator selecionar 'Pesquisar'.\n",
    "\n",
    "O sistema exibe todos os produtos que correspondem aos termos que foram digitados."
   ]
  },
  {
   "cell_type": "markdown",
   "metadata": {},
   "source": [
    "# [A2] EDITAR PRODUTO\n",
    "\n",
    "O ator executa [A1].\n",
    "\n",
    "O ator seleciona o produto na lista e clica no botão para editar o produto.\n",
    "\n",
    "Sistema exibe a página de edição de produtos e que os campos estão preenchidos com os dados do produto.\n",
    "\n",
    "O ator altera o nome do produto e clica no botão para salvar os dados relacionados ao produto.\n",
    "\n",
    "Sistema salva os dados.\n",
    "\n",
    "O ator seleciona 'Listar produtos' no menu.\n",
    "\n",
    "O sistema exibe uma a lista de produtos cadastrados.\n",
    "\n",
    "O ator verifica que o produto cadastrado está na lista."
   ]
  },
  {
   "cell_type": "markdown",
   "metadata": {
    "notebookRunGroups": {
     "groupValue": "1"
    }
   },
   "source": [
    "# [A3] EXCLUIR PRODUTO\n",
    "\n",
    "O ator decide excluir o produto e executa [A1]. \n",
    "\n",
    "Ele visualiza o produto e seleciona a opção 'Excluir'.\n",
    "\n",
    "O sistema pergunta se o usuário realmente deseja excluir o produto.\n",
    "\n",
    "O ator confirma a exclusão.\n",
    "\n",
    "O sistema exclui o produto.\n",
    "\n",
    "O ator seleciona 'Listar produtos' no menu.\n",
    "\n",
    "O sistema exibe uma a lista de produtos cadastrados.\n",
    "\n",
    "O ator verifica que o produto cadastrado não está na lista."
   ]
  },
  {
   "cell_type": "markdown",
   "metadata": {},
   "source": [
    "# [A4] ADICIONAR GARANTIA\n",
    "\n",
    "O ator decide adicionar mais uma garantia ao produto. Ele verifica que existe um botão para adicionar garantia e o seleciona\n",
    "\n",
    "O sistema exibe novos campos para adicionar a garantia. \n",
    "\n",
    "O ator preenche os campos com os dados da nova garantia: valor, tipo 'estendida'e data de vencimento."
   ]
  },
  {
   "cell_type": "markdown",
   "metadata": {},
   "source": [
    "\n",
    "# [RN1] VALIDAÇÃO DOS CAMPOS\n",
    "\n",
    "Todas as informações são obrigatórias, exceto o campo 'valor da garantia'"
   ]
  }
 ],
 "metadata": {
  "kernelspec": {
   "display_name": "lenv",
   "language": "python",
   "name": "python3"
  },
  "language_info": {
   "name": "python",
   "version": "3.10.12"
  },
  "orig_nbformat": 4
 },
 "nbformat": 4,
 "nbformat_minor": 2
}
