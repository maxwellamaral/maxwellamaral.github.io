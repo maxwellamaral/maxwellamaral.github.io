{
 "cells": [
  {
   "cell_type": "markdown",
   "metadata": {},
   "source": [
    "# UC001 - Manter produtos\n",
    "\n",
    "**Objetivo**: Permitir que o cliente possa cadastrar, alterar, excluir e consultar produtos.\n",
    "\n",
    "**Requisitos**: \n",
    "- RF001\n",
    "\n",
    "**Atores**:\n",
    "- Cliente"
   ]
  },
  {
   "cell_type": "code",
   "execution_count": null,
   "metadata": {},
   "outputs": [],
   "source": [
    "from selenium import webdriver\n",
    "from selenium.webdriver.common.keys import Keys\n",
    "from selenium.webdriver.common.by import By\n",
    "\n",
    "driver = webdriver.Firefox()"
   ]
  },
  {
   "cell_type": "markdown",
   "metadata": {},
   "source": [
    "## [FP] FLUXO PRINCIPAL\n",
    "\n",
    "O ator acessa a página de cadastro de produtos. Ele verifica que o título da página é \"Cadastro de produtos\". Ele observa que existe os campos:\n",
    "- Nome\n",
    "- Data de compra\n",
    "- Segmento\n",
    "- Marca\n",
    "- Modelo\n",
    "- Local de compra\n",
    "- Valor pago\n",
    "- Modo de compra (online ou loja física)\n",
    "- Listagem de garantias\n",
    "- Data de vencimento da garantia\n",
    "- Tipo de garantia\n",
    "- Valor da garantia\n",
    "- Opções\n",
    "    - Botão \"Salvar\"\n",
    "    - Botão \"Cancelar\""
   ]
  },
  {
   "cell_type": "code",
   "execution_count": null,
   "metadata": {},
   "outputs": [],
   "source": [
    "url = 'http://localhost:8000'\n",
    "driver.get(url)\n",
    "\n",
    "search_box = driver.find_element(By.ID, 'search')\n",
    "search_box.send_keys('selenium')\n",
    "search_box.send_keys(Keys.RETURN)"
   ]
  }
 ],
 "metadata": {
  "kernelspec": {
   "display_name": "lenv",
   "language": "python",
   "name": "python3"
  },
  "language_info": {
   "name": "python",
   "version": "3.10.12"
  },
  "orig_nbformat": 4
 },
 "nbformat": 4,
 "nbformat_minor": 2
}
